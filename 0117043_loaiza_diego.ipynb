{
 "cells": [
  {
   "cell_type": "markdown",
   "metadata": {},
   "source": [
    "# ejercicio_1"
   ]
  },
  {
   "cell_type": "code",
   "execution_count": null,
   "metadata": {},
   "outputs": [],
   "source": [
    "#   1.sin utilizar el comando ABS escribir un programa que calcule el valor \n",
    "#   de cualquier numero (sea entero o decimal).\n",
    "\n",
    "x = float(input(\"por favor ingrese un numero:\")) # ingresar un valor \n",
    "if x >= 0 : # si es mayor a cero\n",
    "    print('su numero en valor absoluto es :',x)\n",
    "else:\n",
    "    x=x*-1 # si no lo es miltiplique por - 1\n",
    "    print('su numero en valor absoluto es :',x)\n",
    "    \n",
    "print('fin del programa')\n"
   ]
  },
  {
   "cell_type": "markdown",
   "metadata": {},
   "source": [
    "# ejercicio_2"
   ]
  },
  {
   "cell_type": "code",
   "execution_count": null,
   "metadata": {},
   "outputs": [],
   "source": [
    "\n",
    "#2.leer un numero entero y escribirlo en reversa (sin comandos de ordenamiento )\n",
    "\n",
    "z=0\n",
    "y=0\n",
    "x = int(input('ingrese un numero :')) # ingrese un valor \n",
    "while x > 0: # verificar valor \n",
    "    y=x%10 # para empezar a escribir del ultimo hacia el primero\n",
    "    z=(z*10)+y \n",
    "    x=int(x/10) #para ir bajando de digito \n",
    "print('su numero en reversa es:', z)\n",
    "\n",
    "\n",
    "print('fin del programa')\n"
   ]
  },
  {
   "cell_type": "markdown",
   "metadata": {},
   "source": [
    "# ejercicio_3"
   ]
  },
  {
   "cell_type": "code",
   "execution_count": null,
   "metadata": {},
   "outputs": [],
   "source": [
    "#3.leer un numero entero de 3 digitos y determinar si contiene el numero 8 \n",
    "\n",
    "\n",
    "c = 0  # bandera \n",
    "x = int(input('ingresar un numero:'))\n",
    "if x >=-1000 and x<=1000 :   # verificacion del numero \n",
    "    if x < 0 :\n",
    "        x=x*-1\n",
    "    \n",
    "    while x>0:\n",
    "        if x%10 == 8:   #tomomos ultimo digito y comparo si es 8\n",
    "            c=1         # si encuentra un 8 levanta la bandera \n",
    "        x= int(x/10)     # valor de x despues del ultimo digito \n",
    "    if c==1 :            # pregunto si la bandera esta levantada \n",
    "        print('contiene un 8')\n",
    "\n",
    "    else :\n",
    "        print('no contiene el 8')       \n",
    "        \n",
    "else:\n",
    "    print('numero invalido ')  \n",
    "    \n",
    "print('fin del programa') "
   ]
  },
  {
   "cell_type": "markdown",
   "metadata": {},
   "source": [
    "# ejercicio_4"
   ]
  },
  {
   "cell_type": "code",
   "execution_count": null,
   "metadata": {},
   "outputs": [],
   "source": [
    "\n",
    "# EJERCICIO_4\n",
    "# 4:Leer un número entero positivo y determinar la suma de sus dígitos pares.\n",
    "# Por ejemplo, en el número 124, los dígitos pares son el 2 y el 4 y su suma vale 6.\n",
    "\n",
    "c=0    # acumulador \n",
    "x= int(input('ingresar valor :'))\n",
    "while x>0:  #verifica que el numero sea positivo\n",
    "    y=(x%10)  #comieza a vereificar digito a digito \n",
    "    if y % 2 ==0:  # verifica si el numero es par \n",
    "        c= c + y\n",
    "    x= int(x/10)    # es para ir reduciendo la cifra \n",
    "print('la suma de los numeros pares es: ', c )\n"
   ]
  },
  {
   "cell_type": "markdown",
   "metadata": {},
   "source": [
    "# ejercicio_5 "
   ]
  },
  {
   "cell_type": "code",
   "execution_count": null,
   "metadata": {},
   "outputs": [],
   "source": [
    "\n",
    "#5.  Leer un número entero y determinar el número de cincos que están \n",
    "#consecutivos en un número.\n",
    "# Por ejemplo, en 5512355551 hay 4 cincos consecutivos. Ahora,\n",
    "# en 234555234512 solo hay 3 cincos consecutivos.\n",
    "\n",
    "\n",
    "c = 0  # contador \n",
    "b=0 #bandera\n",
    "t=0 # temporal\n",
    "x = int(input('ingresar un numero:'))          \n",
    "\n",
    "while x>0:\n",
    "    if (x%10 == 5) :    #tomomos ultimo digito y comparo si es 5\n",
    "        c= c+1              # si encuentra un 5 guardarlo\n",
    "        b=1       # levantar la bandera \n",
    "        if c>t:        #  guardar dato y continuar verificando\n",
    "            t=c   # dato guardado\n",
    "    else :\n",
    "        b=0 # volver a hacer proseso y bajar la bandera\n",
    "        c=0\n",
    "    x= int(x/10)  # valor de x despues del ultimo digito \n",
    "\n",
    "\n",
    "print('este numero contiene',t ,'cincos concecutivos')\n",
    "print('!!fin del programa¡¡')"
   ]
  },
  {
   "cell_type": "markdown",
   "metadata": {},
   "source": [
    "# ejercicio_6"
   ]
  },
  {
   "cell_type": "code",
   "execution_count": null,
   "metadata": {},
   "outputs": [],
   "source": [
    "#6.Leer un número entero y determinar si la suma de sus dígitos es un \n",
    "#número de Fibonacci.\n",
    "c=0\n",
    "s=0\n",
    "x = int(input('ingrese un numero:'))\n",
    "cadena=[];  # para calcular la sucecion \n",
    "for i in range(1,x+1):\n",
    "    if i==1 or i==2:\n",
    "        cadena.append(1)\n",
    "    else :\n",
    "        cadena.append(cadena[i-2] + cadena[i-3])\n",
    "                 \n",
    "while x>0:    # ciclo que me va a sumar los digitos del numero ingresado\n",
    "    y=(x%10)\n",
    "    c=c+y\n",
    "    x=int(x/10)\n",
    "print('la suma de los digitos de su numero es',c)\n",
    "\n",
    "if c in cadena : # pribar si la suma de los digitos del numero ingresao si \n",
    "    # esta en la sucecion\n",
    "    print(c,'esta en la sucecion ')\n",
    "else:\n",
    "    print(c,'no esta en la sucecion')\n",
    "print('!!fin del programa¡¡')"
   ]
  },
  {
   "cell_type": "markdown",
   "metadata": {},
   "source": [
    "# ejercicio_7"
   ]
  },
  {
   "cell_type": "code",
   "execution_count": null,
   "metadata": {},
   "outputs": [],
   "source": [
    "#7.Leer un número entero positivo y determine si existen en el número dígitos\n",
    "# repetidos. Reporte cuales son los dígitos repetidos. \n",
    "\n",
    "    \n",
    "cadena=[]\n",
    "c=0   # contador \n",
    "x = int(input('ingrese un numero :'))\n",
    "z=x # duplicado \n",
    "while x>0:   # ciclo que me recorre el numero ingresado\n",
    "    w=(x%10) #  seleciona el ultimo digito ingresado \n",
    "    y=z #   reinicia el duplicado\n",
    "    while y>0: # ciclo que verofica el ultimo digito ingresado con cada digito\n",
    "        #del duplicado\n",
    "        if w ==(y%10): \n",
    "            c=c+1# si encuentra una coincidencia aumenta el contador\n",
    "        y=int(y/10) # siguiente digito del duplicado\n",
    "    if c>1: #si elcontador es mayor a 1 implica qur hay un digito repetido \n",
    "        if w not in cadena: # si el digito es repetido verifica si no a sido\n",
    "            #tenido encuenta\n",
    "            cadena.append(w)# si no a sido tenido en cuenta se agrega a la lista \n",
    "    c=0 # iniciar el contador \n",
    "    x= int(x/10) # va reduciendo el numero ingresado\n",
    "print('digitos repetidos:',cadena) # resultado \n",
    "print('!!fin del programa¡¡')\n"
   ]
  },
  {
   "cell_type": "markdown",
   "metadata": {},
   "source": [
    "# ejercicio_8"
   ]
  },
  {
   "cell_type": "code",
   "execution_count": null,
   "metadata": {},
   "outputs": [],
   "source": [
    "\n",
    "#8.  Iterar a través de los primeros cien enteros positivos, buscando los\n",
    "# múltiplos de 3 e imprimiendo y almacenándolos \n",
    "#en una lista hasta encontrar los primeros 15 de ellos. Una vez encontrados, \n",
    "#continuar iterando en busca de los múltiplos de 4 y almacenarlos en otra lista\n",
    "\n",
    "\n",
    "def multiplo(valor, multiplo):#Funcion para calcular si el numero es multiplo\n",
    "   # utilizando el modulo de la division\n",
    "    resto = valor % multiplo  # funcion para caucular el multiplo\n",
    "    if resto == 0:\n",
    "        return True\n",
    "    else:\n",
    "        return False\n",
    " \n",
    "\n",
    "multiplos_3=[]  # lista que contendra los valores multiplos\n",
    "multiplos_4=[]\n",
    " \n",
    "\n",
    "for i in range(0,45): # bucle del 0 al 100\n",
    " \n",
    "    if multiplo(i,3):\n",
    "        multiplos_3.append(i)# guarda los multiplos de 3\n",
    "for i in range(45,100):\n",
    "    if multiplo(i,4): \n",
    "        multiplos_4.append(i)# guarda los multiplos de 4\n",
    " \n",
    "print (\"Los multiplos de 3 son:\", multiplos_3)\n",
    "print (\"\")\n",
    "print (\"Los multiplos de 4 son:\", multiplos_4)\n",
    "\n",
    "print('!!fin del ejercicio¡¡')"
   ]
  },
  {
   "cell_type": "markdown",
   "metadata": {},
   "source": [
    "# ejercicico_9"
   ]
  },
  {
   "cell_type": "code",
   "execution_count": null,
   "metadata": {},
   "outputs": [],
   "source": [
    "\n",
    "#9.  Hacer un programa que lea las coordenadas (x1,y1,r1) y (x2,y2,r2) que \n",
    "#corresponden al centro y al radio de dos círculos.Lea un punto de coordenadas\n",
    "#(a,b). Determina si (a,b) está contenido: a) dentro del círculo 1; b) dentro \n",
    "#del círculo 2; c) dentro de ambos círculos; d) fuera de ambos círculos.\n",
    "#Recordemos que el círculo es el lugar geométrico de los puntos del plano\n",
    "#cuya distancia a otro punto fijo, llamado centro, es menor o igual que una \n",
    "#cantidad constante, llamada radio.\n",
    "import math\n",
    "x_1 = int(input('ingrese la coordena de en x_1 : ')) # coordenadas para el circulo 1\n",
    "y_1 = int(input('ingrese la coordena de en y_1 : '))\n",
    "r_1 = int(input('ingrese la magnitud del raadio_1 :')) # dimencion del radio\n",
    "\n",
    "x_2 = int(input('ingrese la coordena de en x_2 : '))# coordenadas para el circulo 2\n",
    "y_2 =  int(input('ingrese la coordena de en y_2 : '))\n",
    "r_2 =  int(input('ingrese la magnitud del radio_2 :')) # dimencion del radio\n",
    "\n",
    "a = int(input('ingrese cordenada a ')) # coordenas del punto\n",
    "b = int(input('ingrese cordenada b '))\n",
    "d =  math.sqrt(((x_1-a)*(x_1-a))+(y_1-b)*(y_1-b)) # operacion para saber si las coordenaas\n",
    "        # ingresads estan dentro de los circulos \n",
    "if ((d < r_1) and (d < r_2)): # verificacion  en 1 y 2 \n",
    "    print('las coordenadas ingresadas estan contenidass en la circunferencia')\n",
    "elif((d>r_1) and (d<r_2)):# verificacion en 2 o en 1\n",
    "    print('esta contenido en circulo2')\n",
    "elif ((d < r_1) and (d > r_2)): # verificacion en 1 o 2\n",
    "    print('esta contenido en circulo1')\n",
    "elif ((d > r_1)and(d > r_2)): # en ninguno \n",
    "    print(' no estan contenidass en la circunferencia')\n",
    "print ('terminado')\n",
    "\n",
    "print('!!fin del ejercicio¡¡')"
   ]
  },
  {
   "cell_type": "markdown",
   "metadata": {},
   "source": [
    "# ejercicio_10"
   ]
  },
  {
   "cell_type": "code",
   "execution_count": null,
   "metadata": {},
   "outputs": [],
   "source": [
    "#10. Sin utilizar el método .upper() para cadenas, escribir un programa que lea \n",
    "#una cadena de texto y la imprima en mayúscula.\n",
    "#Tenga en cuenta que el programa debe aceptar las letras con tilde, la ñ y la ü.\n",
    "\n",
    "y = input(\"ingrese una palabra en minuscula\")\n",
    "print (y.swapcase())\n",
    "\n",
    "print('!!fin del ejercicio¡¡')"
   ]
  },
  {
   "cell_type": "markdown",
   "metadata": {},
   "source": [
    "# ejercicio_11"
   ]
  },
  {
   "cell_type": "code",
   "execution_count": null,
   "metadata": {},
   "outputs": [],
   "source": [
    "#11. Escribir un programa que reciba una cadena de texto y reporte:\n",
    "\n",
    "#\ta) cuántas letras vocales en mayúscula se entraron;\n",
    "#\tb) cuántas letras con tilde se entraron (minúsculas y mayúsculas);\n",
    "#\tc) cuántos dígitos se entraron,\n",
    "#\td) cuántos espacios se entraron;\n",
    "#\te) cuántas palabras reservadas se entraron.\n",
    "\n",
    "from keyword import kwlist\n",
    "cont_voc_may= 0 # contadores para mayusculas  \n",
    "cont_let_ti = 0 # contadores para letras con tilde \n",
    "cont_dig = 0 # contadores para digitos  \n",
    "cont_esp = 0# contadores para espacios \n",
    "cont_pal_res = 0# contadores para espacios   \n",
    "\n",
    "cade = input(\"ingrese una cadena de texto: \")\n",
    "for i in cade: \n",
    "    if i in \"AEIOUÁÉÍÓÚ\":\n",
    "        cont_voc_may += 1 #contadores para mayusculas  \n",
    "    if i in \"aeiouáéíóú\":\n",
    "        cont_let_ti += 1 # contador letras con tilde  \n",
    "    elif i.isdigit():\n",
    "        cont_dig += 1# contadores para digitos  \n",
    "    elif i == \" \":\n",
    "        cont_esp += 1 # contadores para espacios \n",
    "        \n",
    "for i in tuple(cade.split(\" \")):  \n",
    "    if i in kwlist:\n",
    "        cont_pal_res += 1 # contadores para espacios   \n",
    "        \n",
    "print(\"\\nEn la cadena de texto hay: \\n \"\n",
    "      \"{0} vocal{1} en mayusculas. \\n\"\n",
    "      .format(cont_voc_may, \"\" if cont_voc_may == 1 else \"es\"),\n",
    "      \"{0} letra{1} con tilde. \\n\"\n",
    "      .format(cont_let_ti, \"\" if cont_let_ti == 1 else \"s\"),\n",
    "      \"{0} digito{1}. \\n\"\n",
    "      .format(cont_dig, \"\" if cont_dig == 1 else \"s\"),\n",
    "       \"{0} espacio{1}. \\n\"\n",
    "      .format(cont_esp, \"\" if cont_esp == 1 else \"s\"),\n",
    "       \"{0} palabra{1} restringida{1}. \\n\"\n",
    "      .format(cont_pal_res, \"\" if cont_pal_res == 1 else \"s\"))\n",
    "\n",
    "print('!!fin del ejercicio¡¡')\n"
   ]
  },
  {
   "cell_type": "markdown",
   "metadata": {},
   "source": [
    "# ejercicio_12"
   ]
  },
  {
   "cell_type": "code",
   "execution_count": null,
   "metadata": {},
   "outputs": [],
   "source": [
    "#12.Hacer un programa que lea dos palabras (podrían estar en mayúscula \n",
    "#o minúscula) y determine cual está primero en el diccionario.\n",
    "#\t El programa debe soportar letras con tilde, la ü y la ñ.\n",
    "\n",
    "cadena1=str(input(\"Ingrese palabra 1: \")) # palabra 1 \n",
    "cadena2=str(input(\"Ingrese palabra 2: \")) # palabra 2\n",
    "print(\"\")\n",
    "if cadena1<cadena2: # comparar cada las palabras para saber cual va primero \n",
    "    print(cadena1, \"Esta primero en el diccionario\" )\n",
    "else:\n",
    "    print(cadena2, \"Esta primero en el diccionario\")\n",
    "    \n",
    "print('!!fin del ejercicio¡¡')   "
   ]
  },
  {
   "cell_type": "markdown",
   "metadata": {},
   "source": [
    "# ejrcicio_13"
   ]
  },
  {
   "cell_type": "code",
   "execution_count": null,
   "metadata": {},
   "outputs": [],
   "source": [
    "''' 13. Escribir un programa que lea una cadena de texto y la imprima como un \n",
    "   triángulo. Por ejemplo, si la cadena entrada es: \"Es una locura odiar a \n",
    "   todas las rosas porque una te pinchó: renunciar a todos tus sueños porque \n",
    "   uno de ellos no se realizó - El Principito\", el programa debe imprimir:\n",
    "            E\n",
    "           sun\n",
    "          alocu\n",
    "         raodiar\n",
    "        atodaslas\n",
    "       rosasporque\n",
    "      unatepinchó:r\n",
    "     enunciaratodost\n",
    "    ussueñosporqueuno\n",
    "   deellosnoserealizó-\n",
    "      ElPrincipito\n",
    "'''\n",
    "cadena = input('Digite la cadena de texto: ') # Se lee la cadena\n",
    "\n",
    "\n",
    "cadena = cadena.replace(' ', '') #Se eliminan los espacios presentes en\n",
    "# la cadena\n",
    "\n",
    "num_caract = len(cadena) # Se determina el número de caracteres en la cadena\n",
    "\n",
    "\n",
    "temp = 0   # Variable auxiliar \n",
    "num_filas = 1# numero de filas   y caracteres        \n",
    "while temp < num_caract:\n",
    "    temp += 2 * num_filas - 1\n",
    "    num_filas += 1\n",
    "\n",
    "num_max = 2 * num_filas - 1    # Número máximo de caracteres en una fila\n",
    "\n",
    "# Se imprime la cadena de texto \n",
    "aux_1 = 0        #Almacena la última posición en la que se imprime la fila i\n",
    "aux_2 = 0        #Cantidad de letras que se imprimen en la fila i\n",
    "contador = 0     # Verifica si luego de imprimir el triángulo aún quedan letras\n",
    "                 # por imprimir\n",
    "\n",
    "for i in range(1,num_filas):\n",
    "    aux_2 += 2*i-1     \n",
    "    print(cadena[aux_1:aux_2].center(num_max,' '))\n",
    "    aux_1 = aux_2      \n",
    "    contador += 1\n",
    "    \n",
    "if contador != num_caract:\n",
    "    print(cadena[aux_2:].center(num_max,' '))\n",
    "    \n",
    "print('!!fin del ejercicio¡¡')   \n",
    "    "
   ]
  },
  {
   "cell_type": "markdown",
   "metadata": {},
   "source": [
    "# ejercici_15"
   ]
  },
  {
   "cell_type": "code",
   "execution_count": null,
   "metadata": {},
   "outputs": [],
   "source": [
    "#15. Leer una lista de números enteros y enumerar cuantos elementos se repiten\n",
    "# exactamente dos veces. Utilizar para tal fin el método count() de listas.\n",
    "\n",
    "a = int(input(\"digite su numero:  \")) #entrada de datos \n",
    "b = str(a) #condiciona para cada numero e imprima si se cumple la funcion o\n",
    "            #no para cada uno de ellos \n",
    "if b.count(\"0\") == 2:\n",
    "    print (\"numero 0 : \" \"repetido exactamente 2 veces\")    \n",
    "else:\n",
    "    print (\"no hay numero 0 repetido numeros exactamente 2 veces\")\n",
    "if b.count(\"1\") == 2:\n",
    "    print (\"numero 1 : \" \"repetido exactamente 2 veces\")\n",
    "else:\n",
    "    print (\"no hay numero 1 repetido numeros exactamente 2 veces\")\n",
    "if b.count(\"2\") == 2:\n",
    "    print (\"numero 2 : \" \"repetido exactamente 2 veces\")\n",
    "else:\n",
    "    print (\"no hay numero 2 repetido numeros exactamente 2 veces\")\n",
    "if b.count(\"3\") == 2:\n",
    "    print (\"numero 3 : \"\"repetido exactamente 2 veces\")\n",
    "else:\n",
    "    print (\"no hay numero 3 repetido numeros exactamente 2 veces\")\n",
    "if b.count(\"4\") == 2:\n",
    "    print (\"numero 4 : \"\"repetido exactamente 2 veces\")\n",
    "else:\n",
    "    print (\"no hay numero 4 repetido numeros exactamente 2 veces\")\n",
    "if b.count(\"5\") == 2:\n",
    "    print (\"numero 5 : \" \"repetido exactamente 2 veces\")\n",
    "else:\n",
    "    print (\"no hay numero 5 repetido numeros exactamente 2 veces\")\n",
    "if b.count(\"6\") == 2:\n",
    "    print (\"numero 6 : \" \"repetido exactamente 2 veces\")\n",
    "else:\n",
    "    print (\"no hay numero 6 repetido numeros exactamente 2 veces\")\n",
    "if b.count(\"7\") == 2:\n",
    "    print (\"numero 7 : \" \"repetido exactamente 2 veces\")\n",
    "else:\n",
    "    print (\"no hay numero 7 repetido numeros exactamente 2 veces\")\n",
    "if b.count(\"8\") == 2:\n",
    "    print (\"numero 8 : \" \"repetido exactamente 2 veces\")\n",
    "else:\n",
    "    print (\"no hay numero 8 repetido numeros exactamente 2 veces\")\n",
    "if b.count(\"9\") == 2:\n",
    "    print (\"numero 8 : \" \"repetido exactamente 2 veces\")\n",
    "else:\n",
    "    print (\"no hay numero 9 repetido numeros exactamente 2 veces\")\n",
    "    \n",
    "    \n",
    "    \n",
    "print('!!fin del ejercicio¡¡')"
   ]
  },
  {
   "cell_type": "markdown",
   "metadata": {},
   "source": [
    "# ejercicio_16"
   ]
  },
  {
   "cell_type": "code",
   "execution_count": null,
   "metadata": {},
   "outputs": [],
   "source": [
    "\n",
    "#16. Leer una lista de números ya ordenados de forma ascendente y verificar\n",
    "# que dicha lista está ordenada. Luego, leer un número \n",
    "#e insertarlo en la lista en la posición que le corresponde a dicho número.\n",
    "\n",
    "x =list(input(\"ingrse la lista: \"))# CREAR LA LISTA \n",
    "# LA LISTA SOLO SE PUDE LLENR CON CARACTERES NUMERICOS DE UN SOLO DIGITO\n",
    "lista = x\n",
    "if lista == sorted(lista) : # REVISAR EL ORDEN \n",
    "     print (lista)\n",
    "y = (input(\"ingrese el numero: \")) #VERIFICAR EN LA LISTA \n",
    "lista.append(y)  # AÑADIR\n",
    "lista.sort()# PARA ORDENAR \n",
    "print ('su nueva lista es : ',lista)\n",
    "\n",
    "print('!!fin del ejercicio¡¡')"
   ]
  },
  {
   "cell_type": "markdown",
   "metadata": {},
   "source": [
    "# ejercicio_17"
   ]
  },
  {
   "cell_type": "code",
   "execution_count": null,
   "metadata": {},
   "outputs": [],
   "source": [
    "#17. Leer una lista y determinar cuál es el segundo elemento más\n",
    "#grande de dicha lista. No utilice ningún tipo de algoritmo\n",
    "#\t de ordenamiento para realizar este ejercicio.\n",
    "\n",
    "x =list(input(\"ingrse la lista\")) #ingreso la lista \n",
    "lista = x\n",
    "b = max (lista) # lista valor maximo\n",
    "\n",
    "lista.remove(b) # la cambio por el maximo anterior \n",
    "c = max (lista) \n",
    "print (c) # escribo el nuevo maximo \n",
    "\n",
    "print('!!fin del ejercicio¡¡')"
   ]
  }
 ],
 "metadata": {
  "kernelspec": {
   "display_name": "Python 3",
   "language": "python",
   "name": "python3"
  },
  "language_info": {
   "codemirror_mode": {
    "name": "ipython",
    "version": 3
   },
   "file_extension": ".py",
   "mimetype": "text/x-python",
   "name": "python",
   "nbconvert_exporter": "python",
   "pygments_lexer": "ipython3",
   "version": "3.6.7"
  }
 },
 "nbformat": 4,
 "nbformat_minor": 2
}
